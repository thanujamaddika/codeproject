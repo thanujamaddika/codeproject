{
 "cells": [
  {
   "cell_type": "code",
   "execution_count": 21,
   "metadata": {},
   "outputs": [],
   "source": [
    "import numpy as np"
   ]
  },
  {
   "cell_type": "code",
   "execution_count": 22,
   "metadata": {},
   "outputs": [],
   "source": [
    "import pandas as pd"
   ]
  },
  {
   "cell_type": "code",
   "execution_count": 23,
   "metadata": {},
   "outputs": [],
   "source": [
    "from sklearn.feature_extraction.text import TfidfVectorizer "
   ]
  },
  {
   "cell_type": "code",
   "execution_count": 24,
   "metadata": {},
   "outputs": [
    {
     "name": "stdout",
     "output_type": "stream",
     "text": [
      "   Year  Population  Murder  Rape  Robbery  Assault  Burglary  CarTheft\n",
      "0  1965    18073000     836  2320    28182    27464    183443     58452\n",
      "1  1966    18258000     882  2439    30098    29142    196127     64368\n",
      "2  1967    18336000     996  2665    40202    31261    219157     83775\n",
      "3  1968    18113000    1185  2527    59857    34946    250918    104877\n",
      "4  1969    18321000    1324  2902    64754    36890    248477    115400\n"
     ]
    }
   ],
   "source": [
    "import pandas as pd\n",
    "\n",
    "# Load the CSV dataset into a pandas DataFrame\n",
    "data = pd.read_csv(\"C:\\\\Users\\\\thanu\\\\OneDrive\\\\Desktop\\\\crime.csv\")\n",
    "\n",
    "\n",
    "\n",
    "# Display the first few rows of the dataset\n",
    "print(data.head())"
   ]
  },
  {
   "cell_type": "code",
   "execution_count": 25,
   "metadata": {},
   "outputs": [
    {
     "data": {
      "text/html": [
       "<div>\n",
       "<style scoped>\n",
       "    .dataframe tbody tr th:only-of-type {\n",
       "        vertical-align: middle;\n",
       "    }\n",
       "\n",
       "    .dataframe tbody tr th {\n",
       "        vertical-align: top;\n",
       "    }\n",
       "\n",
       "    .dataframe thead th {\n",
       "        text-align: right;\n",
       "    }\n",
       "</style>\n",
       "<table border=\"1\" class=\"dataframe\">\n",
       "  <thead>\n",
       "    <tr style=\"text-align: right;\">\n",
       "      <th></th>\n",
       "      <th>Year</th>\n",
       "      <th>Population</th>\n",
       "      <th>Murder</th>\n",
       "      <th>Rape</th>\n",
       "      <th>Robbery</th>\n",
       "      <th>Assault</th>\n",
       "      <th>Burglary</th>\n",
       "      <th>CarTheft</th>\n",
       "    </tr>\n",
       "  </thead>\n",
       "  <tbody>\n",
       "    <tr>\n",
       "      <th>0</th>\n",
       "      <td>1965</td>\n",
       "      <td>18073000</td>\n",
       "      <td>836</td>\n",
       "      <td>2320</td>\n",
       "      <td>28182</td>\n",
       "      <td>27464</td>\n",
       "      <td>183443</td>\n",
       "      <td>58452</td>\n",
       "    </tr>\n",
       "    <tr>\n",
       "      <th>1</th>\n",
       "      <td>1966</td>\n",
       "      <td>18258000</td>\n",
       "      <td>882</td>\n",
       "      <td>2439</td>\n",
       "      <td>30098</td>\n",
       "      <td>29142</td>\n",
       "      <td>196127</td>\n",
       "      <td>64368</td>\n",
       "    </tr>\n",
       "    <tr>\n",
       "      <th>2</th>\n",
       "      <td>1967</td>\n",
       "      <td>18336000</td>\n",
       "      <td>996</td>\n",
       "      <td>2665</td>\n",
       "      <td>40202</td>\n",
       "      <td>31261</td>\n",
       "      <td>219157</td>\n",
       "      <td>83775</td>\n",
       "    </tr>\n",
       "    <tr>\n",
       "      <th>3</th>\n",
       "      <td>1968</td>\n",
       "      <td>18113000</td>\n",
       "      <td>1185</td>\n",
       "      <td>2527</td>\n",
       "      <td>59857</td>\n",
       "      <td>34946</td>\n",
       "      <td>250918</td>\n",
       "      <td>104877</td>\n",
       "    </tr>\n",
       "    <tr>\n",
       "      <th>4</th>\n",
       "      <td>1969</td>\n",
       "      <td>18321000</td>\n",
       "      <td>1324</td>\n",
       "      <td>2902</td>\n",
       "      <td>64754</td>\n",
       "      <td>36890</td>\n",
       "      <td>248477</td>\n",
       "      <td>115400</td>\n",
       "    </tr>\n",
       "  </tbody>\n",
       "</table>\n",
       "</div>"
      ],
      "text/plain": [
       "   Year  Population  Murder  Rape  Robbery  Assault  Burglary  CarTheft\n",
       "0  1965    18073000     836  2320    28182    27464    183443     58452\n",
       "1  1966    18258000     882  2439    30098    29142    196127     64368\n",
       "2  1967    18336000     996  2665    40202    31261    219157     83775\n",
       "3  1968    18113000    1185  2527    59857    34946    250918    104877\n",
       "4  1969    18321000    1324  2902    64754    36890    248477    115400"
      ]
     },
     "execution_count": 25,
     "metadata": {},
     "output_type": "execute_result"
    }
   ],
   "source": [
    "data.head()"
   ]
  },
  {
   "cell_type": "code",
   "execution_count": 26,
   "metadata": {},
   "outputs": [
    {
     "name": "stdout",
     "output_type": "stream",
     "text": [
      "Index(['year', 'population', 'murder', 'rape', 'robbery', 'assault',\n",
      "       'burglary', 'cartheft'],\n",
      "      dtype='object')\n"
     ]
    }
   ],
   "source": [
    "print(data.columns.str.lower())  # Check if 'text' is actually 'Text' or something else\n"
   ]
  },
  {
   "cell_type": "code",
   "execution_count": 27,
   "metadata": {},
   "outputs": [
    {
     "name": "stdout",
     "output_type": "stream",
     "text": [
      "[\"'Year'\", \"'Population'\", \"'Murder'\", \"'Rape'\", \"'Robbery'\", \"'Assault'\", \"'Burglary'\", \"'CarTheft'\"]\n"
     ]
    }
   ],
   "source": [
    "print([repr(col) for col in data.columns])  # Show hidden characters\n"
   ]
  },
  {
   "cell_type": "code",
   "execution_count": 28,
   "metadata": {},
   "outputs": [],
   "source": [
    "data.rename(columns={\" text \": \"text\"}, inplace=True)\n"
   ]
  },
  {
   "cell_type": "code",
   "execution_count": 29,
   "metadata": {},
   "outputs": [
    {
     "name": "stdout",
     "output_type": "stream",
     "text": [
      "Index(['Year', 'Population', 'Murder', 'Rape', 'Robbery', 'Assault',\n",
      "       'Burglary', 'CarTheft'],\n",
      "      dtype='object')\n"
     ]
    }
   ],
   "source": [
    "print(data.columns)\n"
   ]
  },
  {
   "cell_type": "code",
   "execution_count": 30,
   "metadata": {},
   "outputs": [
    {
     "name": "stdout",
     "output_type": "stream",
     "text": [
      "[\"'Year'\", \"'Population'\", \"'Murder'\", \"'Rape'\", \"'Robbery'\", \"'Assault'\", \"'Burglary'\", \"'CarTheft'\"]\n"
     ]
    }
   ],
   "source": [
    "print([repr(col) for col in data.columns])  # See exact column names\n"
   ]
  },
  {
   "cell_type": "code",
   "execution_count": 31,
   "metadata": {},
   "outputs": [],
   "source": [
    "data.columns = ['year', 'population', 'murder', 'rape', 'robbery', 'assault', 'burglary', 'car_theft']\n"
   ]
  },
  {
   "cell_type": "code",
   "execution_count": 32,
   "metadata": {},
   "outputs": [
    {
     "name": "stdout",
     "output_type": "stream",
     "text": [
      "   year  population  murder  rape  robbery  assault  burglary  car_theft\n",
      "0  1965    18073000     836  2320    28182    27464    183443      58452\n",
      "1  1966    18258000     882  2439    30098    29142    196127      64368\n",
      "2  1967    18336000     996  2665    40202    31261    219157      83775\n",
      "3  1968    18113000    1185  2527    59857    34946    250918     104877\n",
      "4  1969    18321000    1324  2902    64754    36890    248477     115400\n",
      "Index(['year', 'population', 'murder', 'rape', 'robbery', 'assault',\n",
      "       'burglary', 'car_theft'],\n",
      "      dtype='object')\n"
     ]
    }
   ],
   "source": [
    "print(data.head())  # View first few rows\n",
    "print(data.columns)  # Confirm column names\n"
   ]
  },
  {
   "cell_type": "code",
   "execution_count": 33,
   "metadata": {},
   "outputs": [
    {
     "name": "stdout",
     "output_type": "stream",
     "text": [
      "Index(['Year', 'Population', 'Murder', 'Rape', 'Robbery', 'Assault',\n",
      "       'Burglary', 'CarTheft'],\n",
      "      dtype='object')\n"
     ]
    }
   ],
   "source": [
    "data = pd.read_csv(\"C:/Users/thanu/OneDrive/Desktop/crime.csv\", encoding='utf-8', skipinitialspace=True)\n",
    "print(data.columns)\n"
   ]
  },
  {
   "cell_type": "code",
   "execution_count": null,
   "metadata": {},
   "outputs": [],
   "source": []
  },
  {
   "cell_type": "code",
   "execution_count": null,
   "metadata": {},
   "outputs": [],
   "source": []
  }
 ],
 "metadata": {
  "kernelspec": {
   "display_name": "Python 3",
   "language": "python",
   "name": "python3"
  },
  "language_info": {
   "codemirror_mode": {
    "name": "ipython",
    "version": 3
   },
   "file_extension": ".py",
   "mimetype": "text/x-python",
   "name": "python",
   "nbconvert_exporter": "python",
   "pygments_lexer": "ipython3",
   "version": "3.13.1"
  }
 },
 "nbformat": 4,
 "nbformat_minor": 2
}
